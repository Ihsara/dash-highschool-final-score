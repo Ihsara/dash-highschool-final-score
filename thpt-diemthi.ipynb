{
 "cells": [
  {
   "cell_type": "code",
   "execution_count": 1,
   "metadata": {},
   "outputs": [],
   "source": [
    "import pandas as pd \n",
    "from bs4 import BeautifulSoup as bs \n",
    "import urllib \n",
    "\n",
    "BASE_DIR_DATA = \"nhse-dataset/csv/{}.csv\"\n",
    "df = pd.read_csv(\"nhse-dataset/csv/1.csv\")\n",
    "ref_prov = pd.read_excel(\"nhse-dataset/province_code.xlsx\")"
   ]
  },
  {
   "cell_type": "code",
   "execution_count": 3,
   "metadata": {},
   "outputs": [
    {
     "data": {
      "text/html": [
       "<div>\n",
       "<style scoped>\n",
       "    .dataframe tbody tr th:only-of-type {\n",
       "        vertical-align: middle;\n",
       "    }\n",
       "\n",
       "    .dataframe tbody tr th {\n",
       "        vertical-align: top;\n",
       "    }\n",
       "\n",
       "    .dataframe thead th {\n",
       "        text-align: right;\n",
       "    }\n",
       "</style>\n",
       "<table border=\"1\" class=\"dataframe\">\n",
       "  <thead>\n",
       "    <tr style=\"text-align: right;\">\n",
       "      <th></th>\n",
       "      <th>SBD</th>\n",
       "      <th>TOÁN</th>\n",
       "      <th>VĂN</th>\n",
       "      <th>LÝ</th>\n",
       "      <th>HÓA</th>\n",
       "      <th>SINH</th>\n",
       "      <th>SỬ</th>\n",
       "      <th>ĐỊA</th>\n",
       "      <th>GDCD</th>\n",
       "      <th>ANH</th>\n",
       "      <th>KHTN</th>\n",
       "      <th>KHXH</th>\n",
       "      <th>KHỐI A</th>\n",
       "      <th>KHỐI B</th>\n",
       "      <th>KHỐI C</th>\n",
       "      <th>KHỐI D</th>\n",
       "      <th>KHỐI A1</th>\n",
       "    </tr>\n",
       "  </thead>\n",
       "  <tbody>\n",
       "    <tr>\n",
       "      <th>0</th>\n",
       "      <td>1063438</td>\n",
       "      <td>3.0</td>\n",
       "      <td>3.5</td>\n",
       "      <td>2.75</td>\n",
       "      <td>3.25</td>\n",
       "      <td>2.75</td>\n",
       "      <td>2.50</td>\n",
       "      <td>5.50</td>\n",
       "      <td>5.50</td>\n",
       "      <td>2.6</td>\n",
       "      <td>2.92</td>\n",
       "      <td>4.50</td>\n",
       "      <td>9.0</td>\n",
       "      <td>9.00</td>\n",
       "      <td>11.50</td>\n",
       "      <td>9.1</td>\n",
       "      <td>8.35</td>\n",
       "    </tr>\n",
       "    <tr>\n",
       "      <th>1</th>\n",
       "      <td>1063463</td>\n",
       "      <td>4.0</td>\n",
       "      <td>3.0</td>\n",
       "      <td>2.75</td>\n",
       "      <td>3.75</td>\n",
       "      <td>4.50</td>\n",
       "      <td>1.50</td>\n",
       "      <td>5.00</td>\n",
       "      <td>5.75</td>\n",
       "      <td>3.0</td>\n",
       "      <td>3.67</td>\n",
       "      <td>4.08</td>\n",
       "      <td>10.5</td>\n",
       "      <td>12.25</td>\n",
       "      <td>9.50</td>\n",
       "      <td>10</td>\n",
       "      <td>9.75</td>\n",
       "    </tr>\n",
       "    <tr>\n",
       "      <th>2</th>\n",
       "      <td>1063464</td>\n",
       "      <td>5.0</td>\n",
       "      <td>3.0</td>\n",
       "      <td>3.75</td>\n",
       "      <td>2.25</td>\n",
       "      <td>3.50</td>\n",
       "      <td>3.50</td>\n",
       "      <td>5.75</td>\n",
       "      <td>5.75</td>\n",
       "      <td>3.0</td>\n",
       "      <td>3.17</td>\n",
       "      <td>5.00</td>\n",
       "      <td>11.0</td>\n",
       "      <td>10.75</td>\n",
       "      <td>12.25</td>\n",
       "      <td>11</td>\n",
       "      <td>11.75</td>\n",
       "    </tr>\n",
       "    <tr>\n",
       "      <th>3</th>\n",
       "      <td>1063470</td>\n",
       "      <td>2.6</td>\n",
       "      <td>4.5</td>\n",
       "      <td>2.00</td>\n",
       "      <td>3.50</td>\n",
       "      <td>3.25</td>\n",
       "      <td>1.75</td>\n",
       "      <td>4.25</td>\n",
       "      <td>6.25</td>\n",
       "      <td>3.0</td>\n",
       "      <td>2.92</td>\n",
       "      <td>4.08</td>\n",
       "      <td>8.1</td>\n",
       "      <td>9.35</td>\n",
       "      <td>10.50</td>\n",
       "      <td>10.1</td>\n",
       "      <td>7.60</td>\n",
       "    </tr>\n",
       "    <tr>\n",
       "      <th>4</th>\n",
       "      <td>1063477</td>\n",
       "      <td>3.2</td>\n",
       "      <td>5.0</td>\n",
       "      <td>2.00</td>\n",
       "      <td>3.00</td>\n",
       "      <td>3.00</td>\n",
       "      <td>2.50</td>\n",
       "      <td>4.00</td>\n",
       "      <td>7.00</td>\n",
       "      <td>3.4</td>\n",
       "      <td>2.67</td>\n",
       "      <td>4.50</td>\n",
       "      <td>8.2</td>\n",
       "      <td>9.20</td>\n",
       "      <td>11.50</td>\n",
       "      <td>11.6</td>\n",
       "      <td>8.60</td>\n",
       "    </tr>\n",
       "  </tbody>\n",
       "</table>\n",
       "</div>"
      ],
      "text/plain": [
       "       SBD  TOÁN  VĂN    LÝ   HÓA  SINH    SỬ   ĐỊA  GDCD  ANH  KHTN  KHXH  \\\n",
       "0  1063438   3.0  3.5  2.75  3.25  2.75  2.50  5.50  5.50  2.6  2.92  4.50   \n",
       "1  1063463   4.0  3.0  2.75  3.75  4.50  1.50  5.00  5.75  3.0  3.67  4.08   \n",
       "2  1063464   5.0  3.0  3.75  2.25  3.50  3.50  5.75  5.75  3.0  3.17  5.00   \n",
       "3  1063470   2.6  4.5  2.00  3.50  3.25  1.75  4.25  6.25  3.0  2.92  4.08   \n",
       "4  1063477   3.2  5.0  2.00  3.00  3.00  2.50  4.00  7.00  3.4  2.67  4.50   \n",
       "\n",
       "   KHỐI A  KHỐI B  KHỐI C KHỐI D  KHỐI A1  \n",
       "0     9.0    9.00   11.50    9.1     8.35  \n",
       "1    10.5   12.25    9.50     10     9.75  \n",
       "2    11.0   10.75   12.25     11    11.75  \n",
       "3     8.1    9.35   10.50   10.1     7.60  \n",
       "4     8.2    9.20   11.50   11.6     8.60  "
      ]
     },
     "execution_count": 3,
     "metadata": {},
     "output_type": "execute_result"
    }
   ],
   "source": [
    "df.head()"
   ]
  },
  {
   "cell_type": "code",
   "execution_count": 2,
   "metadata": {},
   "outputs": [],
   "source": [
    "def get_data(ref_province):\n",
    "    data_wraper = {} \n",
    "    for province_id in range(64):\n",
    "        try:\n",
    "            data_wraper[ref_province[ref_province[\"SỐ TT CỤM THI\"] == province_id][\"ĐIẠ PHƯƠNG\"].values[0]] = pd.read_csv(BASE_DIR_DATA.format(province_id))\n",
    "        except FileNotFoundError: \n",
    "            pass\n",
    "    return data_wraper"
   ]
  },
  {
   "cell_type": "code",
   "execution_count": 9,
   "metadata": {},
   "outputs": [],
   "source": [
    "query = \"https://docs.google.com/spreadsheets/d/1ZZ_jX6o9wNp_loXfThXtux8kZzEkKmrCR8yJMEgj_Tk/edit#gid=1504472318\"\n",
    "\n",
    "soup = get_data(query)"
   ]
  },
  {
   "cell_type": "code",
   "execution_count": 33,
   "metadata": {},
   "outputs": [
    {
     "data": {
      "text/plain": [
       "77685"
      ]
     },
     "execution_count": 33,
     "metadata": {},
     "output_type": "execute_result"
    }
   ],
   "source": [
    "df['VĂN'].count()"
   ]
  },
  {
   "cell_type": "code",
   "execution_count": 53,
   "metadata": {},
   "outputs": [
    {
     "data": {
      "text/plain": [
       "'Lai Châu'"
      ]
     },
     "execution_count": 53,
     "metadata": {},
     "output_type": "execute_result"
    }
   ],
   "source": [
    "ref_province[ref_province['SỐ TT CỤM THI'] == 6][\"ĐIẠ PHƯƠNG\"].values[0]"
   ]
  },
  {
   "cell_type": "code",
   "execution_count": 41,
   "metadata": {},
   "outputs": [
    {
     "data": {
      "text/html": [
       "<div>\n",
       "<style scoped>\n",
       "    .dataframe tbody tr th:only-of-type {\n",
       "        vertical-align: middle;\n",
       "    }\n",
       "\n",
       "    .dataframe tbody tr th {\n",
       "        vertical-align: top;\n",
       "    }\n",
       "\n",
       "    .dataframe thead th {\n",
       "        text-align: right;\n",
       "    }\n",
       "</style>\n",
       "<table border=\"1\" class=\"dataframe\">\n",
       "  <thead>\n",
       "    <tr style=\"text-align: right;\">\n",
       "      <th></th>\n",
       "      <th>SỐ TT CỤM THI</th>\n",
       "      <th>ĐIẠ PHƯƠNG</th>\n",
       "      <th>TRA CỨU ĐIỂM THI THPT QUỐC GIA</th>\n",
       "    </tr>\n",
       "  </thead>\n",
       "  <tbody>\n",
       "    <tr>\n",
       "      <th>51</th>\n",
       "      <td>52</td>\n",
       "      <td>An Giang</td>\n",
       "      <td>Tra cứu điểm thi</td>\n",
       "    </tr>\n",
       "  </tbody>\n",
       "</table>\n",
       "</div>"
      ],
      "text/plain": [
       "    SỐ TT CỤM THI ĐIẠ PHƯƠNG TRA CỨU ĐIỂM THI THPT QUỐC GIA\n",
       "51             52   An Giang               Tra cứu điểm thi"
      ]
     },
     "execution_count": 41,
     "metadata": {},
     "output_type": "execute_result"
    }
   ],
   "source": [
    "ref_province[ref_province['ĐIẠ PHƯƠNG'] == \"An Giang\"]"
   ]
  },
  {
   "cell_type": "code",
   "execution_count": 4,
   "metadata": {},
   "outputs": [],
   "source": [
    "province_ref = pd.read_excel(\"nhse-dataset/province_code.xlsx\") \n",
    "data_wraper = get_data(province_ref)"
   ]
  },
  {
   "cell_type": "code",
   "execution_count": 8,
   "metadata": {},
   "outputs": [
    {
     "data": {
      "text/plain": [
       "0    6.6\n",
       "1    4.0\n",
       "2    6.0\n",
       "3    2.4\n",
       "4    5.8\n",
       "Name: TOÁN, dtype: float64"
      ]
     },
     "execution_count": 8,
     "metadata": {},
     "output_type": "execute_result"
    }
   ],
   "source": [
    "data_wraper['TP.HCM'][\"TOÁN\"].head() "
   ]
  },
  {
   "cell_type": "code",
   "execution_count": 18,
   "metadata": {},
   "outputs": [
    {
     "name": "stderr",
     "output_type": "stream",
     "text": [
      "E:\\ProgramData\\Anaconda3\\lib\\site-packages\\plotly\\plotly\\plotly.py:233: UserWarning:\n",
      "\n",
      "Woah there! Look at all those points! Due to browser limitations, the Plotly SVG drawing functions have a hard time graphing more than 500k data points for line charts, or 40k points for other types of charts. Here are some suggestions:\n",
      "(1) Use the `plotly.graph_objs.Scattergl` trace object to generate a WebGl graph.\n",
      "(2) Trying using the image API to return an image instead of a graph URL\n",
      "(3) Use matplotlib\n",
      "(4) See if you can create your visualization with fewer data points\n",
      "\n",
      "If the visualization you're using aggregates points (e.g., box plot, histogram, etc.) you can disregard this warning.\n",
      "\n"
     ]
    },
    {
     "data": {
      "text/html": [
       "<iframe id=\"igraph\" scrolling=\"no\" style=\"border:none;\" seamless=\"seamless\" src=\"https://plot.ly/~xxSneezixx/65.embed\" height=\"525px\" width=\"100%\"></iframe>"
      ],
      "text/plain": [
       "<plotly.tools.PlotlyDisplay object>"
      ]
     },
     "execution_count": 18,
     "metadata": {},
     "output_type": "execute_result"
    }
   ],
   "source": [
    "import plotly.plotly as py\n",
    "import plotly.graph_objs as go\n",
    "\n",
    "import numpy as np\n",
    "\n",
    "x = data_wraper[\"TP.HCM\"]['LÝ']\n",
    "data = [go.Histogram(x=x,\n",
    "                     histnorm='probability')]\n",
    "\n",
    "layout = go.Layout(\n",
    "    xaxis=dict(\n",
    "        title = \"Điểm thi\",\n",
    "        ticks='outside',\n",
    "        tick0=0,\n",
    "        dtick=0.25,\n",
    "        ticklen=8,\n",
    "        tickwidth=4,\n",
    "        tickcolor='#000'\n",
    "    )\n",
    ")\n",
    "\n",
    "fig = go.Figure(data=data, layout=layout)\n",
    "\n",
    "py.iplot(fig, filename='math score of HCMC 2018')"
   ]
  },
  {
   "cell_type": "markdown",
   "metadata": {},
   "source": []
  },
  {
   "cell_type": "code",
   "execution_count": null,
   "metadata": {},
   "outputs": [],
   "source": []
  }
 ],
 "metadata": {
  "kernelspec": {
   "display_name": "Python 3",
   "language": "python",
   "name": "python3"
  },
  "language_info": {
   "codemirror_mode": {
    "name": "ipython",
    "version": 3
   },
   "file_extension": ".py",
   "mimetype": "text/x-python",
   "name": "python",
   "nbconvert_exporter": "python",
   "pygments_lexer": "ipython3",
   "version": "3.6.5"
  }
 },
 "nbformat": 4,
 "nbformat_minor": 2
}
